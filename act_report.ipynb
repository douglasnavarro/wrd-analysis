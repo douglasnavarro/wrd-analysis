{
 "cells": [
  {
   "cell_type": "markdown",
   "metadata": {},
   "source": [
    "# Let's use data to find out what the WeRateDogs twitter and its community is all about! 🐶"
   ]
  },
  {
   "cell_type": "markdown",
   "metadata": {},
   "source": [
    "According to the [twitter bio](https://twitter.com/dog_rates), this community is all about \"Professional Dog Ratings\". The twitter profile has over 7 MILLION followers so this must be an old (in internet-age) as well as successfull community.\n",
    "\n",
    "We could take a look at some of their latest tweets but I'm afraid those might be a little different than what a loyal follower normally sees. I bet the **most famous** tweets will reveal the essence of this community.\n",
    "\n",
    "However, twitter does not have a \"see most famous tweets from this profile\" kind of feature. So I gathered some data and did this myself, data scientist style."
   ]
  },
  {
   "cell_type": "markdown",
   "metadata": {},
   "source": [
    "## Most favorited tweets\n",
    "\n",
    "The following chart shows how many favorites that dog name got among all tweets in the dataset.\n",
    "\n",
    "![name chart](snaps/name_chart.png)\n",
    "\n",
    "Wow! Why are those names so famous? Let's take a look now at the top 3 most favorited tweets and see who are those guys!"
   ]
  },
  {
   "attachments": {},
   "cell_type": "markdown",
   "metadata": {},
   "source": [
    "### 1) 92K favorties: Meet Bo - Obama's family pet dog\n",
    "![bo](snaps/bo.png)"
   ]
  },
  {
   "cell_type": "markdown",
   "metadata": {},
   "source": [
    "### 2) 38K favortes: Cupid - The cutest hero you will ever meet\n",
    "\n",
    "![cupid](snaps/cupid.png)"
   ]
  },
  {
   "cell_type": "markdown",
   "metadata": {},
   "source": [
    "### 3) 34K favorites: Sebastian - Proof you can expect no prejudice from a puppo\n",
    "![sebastian](snaps/sebastian.png)"
   ]
  },
  {
   "cell_type": "markdown",
   "metadata": {},
   "source": [
    "## Which stages are the most frequent?\n",
    "\n",
    "You may have noticed that this community has stages for their dogs, each one representing a moment in their dog life. Sebastian is a puppo, for example.\n",
    "\n",
    "![dogtionary](snaps/dogtionary.png)\n",
    "\n",
    "### Let's take a look of the most frequent stages using a sample of tweets!\n",
    "\n",
    "![chart](snaps/stage_chart.png)\n",
    "\n",
    "So, puppies are the most popular. No wonder!"
   ]
  }
 ],
 "metadata": {
  "kernelspec": {
   "display_name": "Python 3",
   "language": "python",
   "name": "python3"
  },
  "language_info": {
   "codemirror_mode": {
    "name": "ipython",
    "version": 3
   },
   "file_extension": ".py",
   "mimetype": "text/x-python",
   "name": "python",
   "nbconvert_exporter": "python",
   "pygments_lexer": "ipython3",
   "version": "3.7.0"
  }
 },
 "nbformat": 4,
 "nbformat_minor": 2
}
