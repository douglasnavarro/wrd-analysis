{
 "cells": [
  {
   "cell_type": "markdown",
   "metadata": {},
   "source": [
    "# Wrangle Report\n",
    "\n",
    "This document describes the data wrangling procedure done to increase the qualiy of the data contained in the `twitter-archive-enchanced.csv` and `image_prediction.tsv` files as well as additional data gathered using the Twitter API and stored in the `tweet_json.txt` file. The IPython environment along with the Pandas library were the main tools used in the process.\n",
    "\n",
    "## Comments on the gathering step\n",
    "\n",
    "This step consisted of reading the `twitter-archive-enchanced.csv` and `image_prediction.tsv` files as well as gathering fresh data for tweets contained in these datasets.\n",
    "\n",
    "Reading the .csv and .tsv files was straightforward using Pandas' `read_csv` method. However, using the Twitter API to produce an updated dataset using the ids from the `twitter-archive-enhanced` dataset required a bit of exception handling as some tweets were unavailable after being deleted or because of some other unkown reason.\n",
    "\n",
    "## Comments on the assessment step\n",
    "\n",
    "The assessment step was a bit overwhelming at first because the dataset had multiple issues. However, setting a mental goal of what insights I wanted to produce from the data helped me figure out what issues should be prioritized.\n",
    "\n",
    "No external software was used besides the Jupyter Notebook for visual assessment. The Dataframe `.info()` method and `dtypes` attribute were the main programmatic ways of assessing the data.\n",
    "\n",
    "## Comments on the cleaning step\n",
    "\n",
    "As recommended the cleaning step was conducted by a sequence of **define**, **code** and **test** steps. Due to the relatively large number of issues, the **define** step was taken only once, listing all the definitions at once and then the **code** steps included a comment header that reminds the reader of what issue will be addressed by that code.\n",
    "\n",
    "By the middle of the cleaning step I realized there was a limitation when converting long floats to strings, which were being converted with scientific notation (such as 8.3534e+10). Then I tried to make a conversion to integers **before** converting to string, but there was an overflow issue with those conversions until I found out I had to use the `int64` type from Numpy. But in the end everything worked out.\n",
    "\n",
    "Another tough part was figuring out how to fix the \"dog stage columns\" issue. I tried to used the `melt` method but, in the end, manually splitting the dataframe and concatenating it back together was easier for me.\n",
    "\n",
    "## Comments on the analysis and visualization step\n",
    "\n",
    "The analysis and visualization step relied totally on bar charts to show to which dog breeds, names and stages the community reacts the most."
   ]
  }
 ],
 "metadata": {
  "kernelspec": {
   "display_name": "Python 3",
   "language": "python",
   "name": "python3"
  },
  "language_info": {
   "codemirror_mode": {
    "name": "ipython",
    "version": 3
   },
   "file_extension": ".py",
   "mimetype": "text/x-python",
   "name": "python",
   "nbconvert_exporter": "python",
   "pygments_lexer": "ipython3",
   "version": "3.7.0"
  }
 },
 "nbformat": 4,
 "nbformat_minor": 2
}
